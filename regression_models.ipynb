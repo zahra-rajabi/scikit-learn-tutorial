{
  "nbformat": 4,
  "nbformat_minor": 0,
  "metadata": {
    "colab": {
      "provenance": [],
      "gpuType": "T4",
      "collapsed_sections": [
        "6pg-Se95xUCS",
        "MI1h4DBgveoT",
        "FCrJ1jZ40cFg",
        "9jVrJjrvNKlG",
        "kI3_Fyu6NNgL",
        "LgpULHVyZkex",
        "Lj2tR63Mdb0L",
        "ZBOjuk0rhZpD",
        "iQTXt8EUlIcC",
        "VFIhXD-huaas",
        "k2OOeLHVwOcV",
        "KPpZVDjkw4Li",
        "8qIIKCFEziAz",
        "ZDOZ6Ygm4o9d",
        "P_Igly8c6WmE"
      ]
    },
    "kernelspec": {
      "name": "python3",
      "display_name": "Python 3"
    },
    "language_info": {
      "name": "python"
    },
    "accelerator": "GPU"
  },
  "cells": [
    {
      "cell_type": "markdown",
      "source": [
        "# **Regression**"
      ],
      "metadata": {
        "id": "0pCTd1n6H9VO"
      }
    },
    {
      "cell_type": "code",
      "source": [
        "from sklearn.linear_model import (LinearRegression , Ridge , RidgeCV , Lasso , LassoCV , ElasticNet , ElasticNetCV , BayesianRidge)\n",
        "from sklearn.preprocessing import PolynomialFeatures\n",
        "from sklearn.datasets import load_diabetes\n",
        "from sklearn.model_selection import train_test_split\n",
        "from sklearn.metrics import (r2_score , mean_squared_error)"
      ],
      "metadata": {
        "id": "UGFJX8HVKFMc"
      },
      "execution_count": 718,
      "outputs": []
    },
    {
      "cell_type": "code",
      "source": [
        "X , y = load_diabetes(return_X_y=True)\n",
        "data = load_diabetes()\n",
        "\n",
        "print('feature names' , data.feature_names)"
      ],
      "metadata": {
        "id": "XzEMOjZ3Kwx8",
        "colab": {
          "base_uri": "https://localhost:8080/"
        },
        "outputId": "e26f8d84-d72f-4c3d-adc8-4fb3b5930136"
      },
      "execution_count": 719,
      "outputs": [
        {
          "output_type": "stream",
          "name": "stdout",
          "text": [
            "feature names ['age', 'sex', 'bmi', 'bp', 's1', 's2', 's3', 's4', 's5', 's6']\n"
          ]
        }
      ]
    },
    {
      "cell_type": "code",
      "source": [
        "X_train , X_test , y_train , y_test = train_test_split(X , y , test_size = 0.2 , random_state=42)"
      ],
      "metadata": {
        "id": "XWcBFg0MK-fF"
      },
      "execution_count": 720,
      "outputs": []
    },
    {
      "cell_type": "markdown",
      "source": [
        "### **Linear Regression**"
      ],
      "metadata": {
        "id": "cM7EwI1bJHr2"
      }
    },
    {
      "cell_type": "code",
      "source": [
        "model = LinearRegression()\n",
        "\n",
        "model.fit(X_train , y_train)\n",
        "\n",
        "y_pred = model.predict(X_test)\n",
        "\n",
        "print('R^2 score of Linear Regression:' , r2_score(y_test , y_pred))\n",
        "print('mean squared error of Linear Regression:' , mean_squared_error(y_test , y_pred))"
      ],
      "metadata": {
        "id": "qPZO3hKhKWKu",
        "colab": {
          "base_uri": "https://localhost:8080/"
        },
        "outputId": "77408b38-e190-4264-af26-a0e630ef28ba"
      },
      "execution_count": 721,
      "outputs": [
        {
          "output_type": "stream",
          "name": "stdout",
          "text": [
            "R^2 score of Linear Regression: 0.45260276297191937\n",
            "mean squared error of Linear Regression: 2900.193628493482\n"
          ]
        }
      ]
    },
    {
      "cell_type": "code",
      "source": [
        "print('Coeffiecients of Linear Regression:\\n' , model.coef_ , '\\n')\n",
        "print('Intercept of Linear Regression:\\n' , model.intercept_)"
      ],
      "metadata": {
        "id": "tUgzE2HKLt2V",
        "colab": {
          "base_uri": "https://localhost:8080/"
        },
        "outputId": "8dba9914-e580-4ca5-d999-587922024464"
      },
      "execution_count": 722,
      "outputs": [
        {
          "output_type": "stream",
          "name": "stdout",
          "text": [
            "Coeffiecients of Linear Regression:\n",
            " [  37.90402135 -241.96436231  542.42875852  347.70384391 -931.48884588\n",
            "  518.06227698  163.41998299  275.31790158  736.1988589    48.67065743] \n",
            "\n",
            "Intercept of Linear Regression:\n",
            " 151.34560453985995\n"
          ]
        }
      ]
    },
    {
      "cell_type": "markdown",
      "source": [
        "### **Ridge Regression**"
      ],
      "metadata": {
        "id": "Sm2Fz1tFJOSw"
      }
    },
    {
      "cell_type": "code",
      "source": [
        "ridge = Ridge(alpha = 1)\n",
        "\n",
        "ridge.fit(X_train , y_train)\n",
        "\n",
        "y_pred = ridge.predict(X_test)\n",
        "\n",
        "\n",
        "print('R^2 score of Ridge Regression:' , r2_score(y_test , y_pred))\n",
        "print('mean squared error of Ridge Regression:' , mean_squared_error(y_test , y_pred))"
      ],
      "metadata": {
        "colab": {
          "base_uri": "https://localhost:8080/"
        },
        "id": "MyCmM7r5OLdS",
        "outputId": "5cb4f9de-df6b-400d-fe9f-1ce59d51ef6c"
      },
      "execution_count": 723,
      "outputs": [
        {
          "output_type": "stream",
          "name": "stdout",
          "text": [
            "R^2 score of Ridge Regression: 0.41915292635986545\n",
            "mean squared error of Ridge Regression: 3077.41593882723\n"
          ]
        }
      ]
    },
    {
      "cell_type": "code",
      "source": [
        "print('Coeffiecients of Ridge Regression:\\n' , ridge.coef_ , '\\n')\n",
        "print('Intercept of Ridge Regression:\\n' , ridge.intercept_)"
      ],
      "metadata": {
        "id": "e_KvNAS4PCZS",
        "colab": {
          "base_uri": "https://localhost:8080/"
        },
        "outputId": "8c81c2b6-d576-4161-e0e2-f75b37f9c1f3"
      },
      "execution_count": 724,
      "outputs": [
        {
          "output_type": "stream",
          "name": "stdout",
          "text": [
            "Coeffiecients of Ridge Regression:\n",
            " [  45.36737726  -76.66608563  291.33883165  198.99581745   -0.53030959\n",
            "  -28.57704987 -144.51190505  119.26006559  230.22160832  112.14983004] \n",
            "\n",
            "Intercept of Ridge Regression:\n",
            " 152.241675211113\n"
          ]
        }
      ]
    },
    {
      "cell_type": "markdown",
      "source": [
        "#### **Ridge CV**"
      ],
      "metadata": {
        "id": "3o14YpJUPRzT"
      }
    },
    {
      "cell_type": "code",
      "source": [
        "alphas = [0.01 , 0.1 , 1 , 10 , 100 , 1000]\n",
        "\n",
        "ridgeCv = RidgeCV(alphas = alphas)\n",
        "\n",
        "ridgeCv.fit(X_train , y_train)\n",
        "\n",
        "y_pred = ridgeCv.predict(X_test)\n",
        "\n",
        "print('R^2 score of Linear Regression:' , r2_score(y_test , y_pred))\n",
        "print('mean squared error of Linear Regression:' , mean_squared_error(y_test , y_pred))"
      ],
      "metadata": {
        "colab": {
          "base_uri": "https://localhost:8080/"
        },
        "id": "DsAgnhULP9tD",
        "outputId": "13a40098-689a-44ab-e0f3-408944c2f025"
      },
      "execution_count": 725,
      "outputs": [
        {
          "output_type": "stream",
          "name": "stdout",
          "text": [
            "R^2 score of Linear Regression: 0.4559819504578997\n",
            "mean squared error of Linear Regression: 2882.2901804060702\n"
          ]
        }
      ]
    },
    {
      "cell_type": "code",
      "source": [
        "print('Coeffiecients of Ridge Cv Regression:\\n' , ridgeCv.coef_ , '\\n')\n",
        "print('Intercept of Ridge Cv Regression:\\n' , ridgeCv.intercept_)"
      ],
      "metadata": {
        "colab": {
          "base_uri": "https://localhost:8080/"
        },
        "id": "sQSxdsOeQOIJ",
        "outputId": "da25ab08-1afd-47d5-e531-5cef54fe0c49"
      },
      "execution_count": 726,
      "outputs": [
        {
          "output_type": "stream",
          "name": "stdout",
          "text": [
            "Coeffiecients of Ridge Cv Regression:\n",
            " [  40.69342168 -237.00801965  546.16179161  341.80931747 -430.14629956\n",
            "  129.902301    -60.46081734  203.99084244  541.09802519   55.48255303] \n",
            "\n",
            "Intercept of Ridge Cv Regression:\n",
            " 151.3365966317254\n"
          ]
        }
      ]
    },
    {
      "cell_type": "code",
      "source": [
        "print('Best Alpha was:' , ridgeCv.alpha_)"
      ],
      "metadata": {
        "colab": {
          "base_uri": "https://localhost:8080/"
        },
        "id": "F5NDSuYFSA5I",
        "outputId": "ff68e9b0-784c-4d01-ee86-60723a052339"
      },
      "execution_count": 727,
      "outputs": [
        {
          "output_type": "stream",
          "name": "stdout",
          "text": [
            "Best Alpha was: 0.01\n"
          ]
        }
      ]
    },
    {
      "cell_type": "markdown",
      "source": [
        "### **Lasso Regression**"
      ],
      "metadata": {
        "id": "xYyUfUV5RlgJ"
      }
    },
    {
      "cell_type": "code",
      "source": [
        "lasso = Lasso(alpha = 1)\n",
        "\n",
        "lasso.fit(X_train , y_train)\n",
        "\n",
        "y_pred = lasso.predict(X_test)\n",
        "\n",
        "print('R^2 score of Lasso Regression:\\n' , r2_score(y_test , y_pred))\n",
        "print('mean squared error of Lasso Regression:\\n' , mean_squared_error(y_test , y_pred))"
      ],
      "metadata": {
        "colab": {
          "base_uri": "https://localhost:8080/"
        },
        "id": "8xxGOeedS5m5",
        "outputId": "057ac821-e06e-4d62-fdda-2f3237ce65e1"
      },
      "execution_count": 728,
      "outputs": [
        {
          "output_type": "stream",
          "name": "stdout",
          "text": [
            "R^2 score of Lasso Regression:\n",
            " 0.3575918767219115\n",
            "mean squared error of Lasso Regression:\n",
            " 3403.5757216070733\n"
          ]
        }
      ]
    },
    {
      "cell_type": "code",
      "source": [
        "print('Coeffiecients of Lasso Regression:\\n' , lasso.coef_)\n",
        "print('Intercept of Lasso Regression:\\n' , lasso.intercept_)"
      ],
      "metadata": {
        "colab": {
          "base_uri": "https://localhost:8080/"
        },
        "id": "qNHUTl8rTvXf",
        "outputId": "484f294e-392f-4607-ff16-d4072f6077e4"
      },
      "execution_count": 729,
      "outputs": [
        {
          "output_type": "stream",
          "name": "stdout",
          "text": [
            "Coeffiecients of Lasso Regression:\n",
            " [  0.          -0.         413.43184792  34.83051518   0.\n",
            "   0.          -0.           0.         258.15289363   0.        ]\n",
            "Intercept of Lasso Regression:\n",
            " 152.6639595689638\n"
          ]
        }
      ]
    },
    {
      "cell_type": "markdown",
      "source": [
        "#### **Lasso Cv**"
      ],
      "metadata": {
        "id": "a-X_R-GdUKTH"
      }
    },
    {
      "cell_type": "code",
      "source": [
        "lassoCv = LassoCV(alphas = [0.01 , 0.1 , 1 , 10 , 100])\n",
        "\n",
        "lassoCv.fit(X_train , y_train)\n",
        "\n",
        "y_pred = lassoCv.predict(X_test)\n",
        "\n",
        "print('R^2 score of Lasso Regression:\\n' , r2_score(y_test , y_pred))\n",
        "print('mean squared error of Lasso Regression:\\n' , mean_squared_error(y_test , y_pred))"
      ],
      "metadata": {
        "colab": {
          "base_uri": "https://localhost:8080/"
        },
        "id": "yxy2bAffUPpX",
        "outputId": "32879905-5131-441b-e101-b8c4fb744041"
      },
      "execution_count": 730,
      "outputs": [
        {
          "output_type": "stream",
          "name": "stdout",
          "text": [
            "R^2 score of Lasso Regression:\n",
            " 0.4718547867276227\n",
            "mean squared error of Lasso Regression:\n",
            " 2798.1934851697188\n"
          ]
        }
      ]
    },
    {
      "cell_type": "code",
      "source": [
        "print('Coeffiecients of Lasso Regression:\\n' , lasso.coef_)\n",
        "print('Intercept of Lasso Regression:\\n' , lasso.intercept_)"
      ],
      "metadata": {
        "colab": {
          "base_uri": "https://localhost:8080/"
        },
        "id": "AGe0uvkUUkrH",
        "outputId": "b3193c29-1e43-434c-8c37-88a55be9cde7"
      },
      "execution_count": 731,
      "outputs": [
        {
          "output_type": "stream",
          "name": "stdout",
          "text": [
            "Coeffiecients of Lasso Regression:\n",
            " [  0.          -0.         413.43184792  34.83051518   0.\n",
            "   0.          -0.           0.         258.15289363   0.        ]\n",
            "Intercept of Lasso Regression:\n",
            " 152.6639595689638\n"
          ]
        }
      ]
    },
    {
      "cell_type": "code",
      "source": [
        "print('Best Alpha was:' , lassoCv.alpha_)"
      ],
      "metadata": {
        "colab": {
          "base_uri": "https://localhost:8080/"
        },
        "id": "cCkIU_JhUmk3",
        "outputId": "fd2d43c4-08e8-4e8d-e6d1-7ffc8d13ffbe"
      },
      "execution_count": 732,
      "outputs": [
        {
          "output_type": "stream",
          "name": "stdout",
          "text": [
            "Best Alpha was: 0.1\n"
          ]
        }
      ]
    },
    {
      "cell_type": "markdown",
      "source": [
        "### **Elastic Net Regression**"
      ],
      "metadata": {
        "id": "4cdHomOpJudX"
      }
    },
    {
      "cell_type": "code",
      "source": [
        "elasticNet = ElasticNet(alpha = 0.1 , l1_ratio=0.5)\n",
        "\n",
        "elasticNet.fit(X_train , y_train)\n",
        "\n",
        "y_pred = elasticNet.predict(X_test)\n",
        "\n",
        "print('R^2 score of Elastic Net Regression:' , r2_score(y_test , y_pred))\n",
        "print('mean squared error of Elastic Net Regression:' , mean_squared_error(y_test , y_pred))"
      ],
      "metadata": {
        "colab": {
          "base_uri": "https://localhost:8080/"
        },
        "id": "hiwHOlPXVOCI",
        "outputId": "11456988-b08a-4408-cab2-44b59d8903c3"
      },
      "execution_count": 733,
      "outputs": [
        {
          "output_type": "stream",
          "name": "stdout",
          "text": [
            "R^2 score of Elastic Net Regression: 0.09865421116113748\n",
            "mean squared error of Elastic Net Regression: 4775.466767154695\n"
          ]
        }
      ]
    },
    {
      "cell_type": "code",
      "source": [
        "print('Coeffiecients of Elastic Net:\\n' , elasticNet.coef_ , '\\n')\n",
        "print('Intercept of Elastic Net:\\n' , elasticNet.intercept_)"
      ],
      "metadata": {
        "colab": {
          "base_uri": "https://localhost:8080/"
        },
        "id": "L1cVFFz7V3b_",
        "outputId": "d5e2b203-acd8-401e-d461-e185926a07ac"
      },
      "execution_count": 734,
      "outputs": [
        {
          "output_type": "stream",
          "name": "stdout",
          "text": [
            "Coeffiecients of Elastic Net:\n",
            " [ 1.08309211e+01 -9.51378929e-03  3.89068647e+01  2.87792332e+01\n",
            "  1.03720066e+01  7.19189161e+00 -2.35109789e+01  2.56271600e+01\n",
            "  3.50737451e+01  2.40712511e+01] \n",
            "\n",
            "Intercept of Elastic Net:\n",
            " 153.50994400357047\n"
          ]
        }
      ]
    },
    {
      "cell_type": "markdown",
      "source": [
        "#### **Elastic Net CV**"
      ],
      "metadata": {
        "id": "7lTlqXkGWJ-G"
      }
    },
    {
      "cell_type": "code",
      "source": [
        "elasticNetCv = ElasticNetCV(alphas=[0.01 , 0.1 , 0.5 , 1 , 10 , 100] , l1_ratio=[0.01 , 0.1 , 0.5 , 1] , cv=5 , random_state=42)\n",
        "\n",
        "elasticNetCv.fit(X_train , y_train)\n",
        "\n",
        "y_pred = elasticNetCv.predict(X_test)\n",
        "\n",
        "print('R^2 score of Elastic Net Cv Regression:' , r2_score(y_test , y_pred))\n",
        "print('mean squared error of Elastic Net Cv Regression:' , mean_squared_error(y_test , y_pred))"
      ],
      "metadata": {
        "id": "URRWxfAlWNCa",
        "colab": {
          "base_uri": "https://localhost:8080/"
        },
        "outputId": "15629322-44ff-4770-8cb9-0a312075d9d4"
      },
      "execution_count": 735,
      "outputs": [
        {
          "output_type": "stream",
          "name": "stdout",
          "text": [
            "R^2 score of Elastic Net Cv Regression: 0.4718547867276227\n",
            "mean squared error of Elastic Net Cv Regression: 2798.1934851697188\n"
          ]
        }
      ]
    },
    {
      "cell_type": "code",
      "source": [
        "print('Coeffiecients of Elastic Net CV:\\n' , elasticNetCv.coef_ , '\\n')\n",
        "print('Intercept of Elastic Net CV:\\n' , elasticNetCv.intercept_)"
      ],
      "metadata": {
        "colab": {
          "base_uri": "https://localhost:8080/"
        },
        "id": "QgOfGt2KWzIF",
        "outputId": "ff2cd8e7-4187-437f-a83c-3e74c6f5d4e3"
      },
      "execution_count": 736,
      "outputs": [
        {
          "output_type": "stream",
          "name": "stdout",
          "text": [
            "Coeffiecients of Elastic Net CV:\n",
            " [   0.         -152.66477923  552.69777529  303.36515791  -81.36500664\n",
            "   -0.         -229.25577639    0.          447.91952518   29.64261704] \n",
            "\n",
            "Intercept of Elastic Net CV:\n",
            " 151.57485282893947\n"
          ]
        }
      ]
    },
    {
      "cell_type": "code",
      "source": [
        "print('Best Alpha was:' , elasticNetCv.alpha_ , '\\n Best l1_ratio was:' , elasticNetCv.l1_ratio_)"
      ],
      "metadata": {
        "colab": {
          "base_uri": "https://localhost:8080/"
        },
        "id": "95yyH8xqW-Pj",
        "outputId": "bb471cce-5e37-4e4c-a5c6-3bbef3cfc59e"
      },
      "execution_count": 737,
      "outputs": [
        {
          "output_type": "stream",
          "name": "stdout",
          "text": [
            "Best Alpha was: 0.1 \n",
            " Best l1_ratio was: 1.0\n"
          ]
        }
      ]
    },
    {
      "cell_type": "markdown",
      "source": [
        "### **Polynomial Regression**"
      ],
      "metadata": {
        "id": "sE0GZH2JJ0HH"
      }
    },
    {
      "cell_type": "code",
      "source": [
        "poly = PolynomialFeatures(degree=2)\n",
        "\n",
        "X_poly = poly.fit_transform(X_train)\n",
        "\n",
        "model_poly = LinearRegression()\n",
        "\n",
        "model_poly.fit(X_poly , y_train)\n",
        "\n",
        "X_test_poly = poly.transform(X_test)\n",
        "\n",
        "y_pred = model_poly.predict(X_test_poly)\n",
        "\n",
        "print('R^2 score of polynomial Regression:' , r2_score(y_test , y_pred))\n",
        "print('mean squared error of polynomial Regression:' , mean_squared_error(y_test , y_pred))\n",
        "\n",
        "print('Coeffiecients of polynomial Regression:\\n' , model_poly.coef_ , '\\n')\n",
        "print('Intercept of polynomial Regression:\\n' , model_poly.intercept_)"
      ],
      "metadata": {
        "colab": {
          "base_uri": "https://localhost:8080/"
        },
        "id": "EtYHr9auY-2a",
        "outputId": "78e7c1fa-b8cd-4656-89e9-629a3b6ba3a6"
      },
      "execution_count": 738,
      "outputs": [
        {
          "output_type": "stream",
          "name": "stdout",
          "text": [
            "R^2 score of polynomial Regression: 0.4156399336407999\n",
            "mean squared error of polynomial Regression: 3096.0283073442733\n",
            "Coeffiecients of polynomial Regression:\n",
            " [ 1.02737951e-08  1.08828416e+02 -3.11898491e+02  4.21980794e+02\n",
            "  3.91317715e+02 -1.69978817e+04  1.48192215e+04  6.05907491e+03\n",
            "  4.43719629e+01  6.24332056e+03  9.85710597e+00  2.39028514e+03\n",
            "  1.52465762e+03 -1.29048951e+03  6.61958511e+02 -9.38779898e+02\n",
            " -7.24306985e+03  5.90750460e+03  9.79750036e+03  1.22545646e+03\n",
            "  8.57928127e+02 -1.88339350e+00  3.46891714e+02  1.25430373e+03\n",
            "  1.60832972e+03  1.65480922e+03 -3.52932759e+03 -7.60218049e+03\n",
            "  2.13145537e+03  6.88174670e+02  8.00898355e+02  3.34793540e+03\n",
            " -6.15585745e+03  7.29715549e+03 -2.11435053e+02 -3.58431763e+03\n",
            "  3.69561236e+03  4.74291338e+02 -2.56573693e+02  1.99317477e+04\n",
            " -1.46380406e+04 -8.28673720e+03 -1.39611298e+03 -7.89399258e+03\n",
            " -3.30189040e+03  9.33891518e+04 -1.28756527e+05 -6.15540508e+04\n",
            " -2.52383912e+04 -4.02934360e+04 -7.83769371e+03  4.56824718e+04\n",
            "  3.44539044e+04  6.46546512e+03  2.36593510e+04  4.13953522e+03\n",
            "  1.10367291e+04  1.61730992e+04  1.32783369e+04  7.79737855e+03\n",
            "  1.19796885e+04  4.51606973e+03  5.62126727e+03  3.29351610e+04\n",
            "  4.97824227e+03  1.25931942e+03] \n",
            "\n",
            "Intercept of polynomial Regression:\n",
            " 63.85672684352758\n"
          ]
        }
      ]
    },
    {
      "cell_type": "markdown",
      "source": [
        "### **Baysian Ridge Regression**"
      ],
      "metadata": {
        "id": "JBT_lYXVJ66X"
      }
    },
    {
      "cell_type": "code",
      "source": [
        "bayse_ridge = BayesianRidge()\n",
        "\n",
        "bayse_ridge.fit(X_train , y_train)\n",
        "\n",
        "y_pred = bayse_ridge.predict(X_test)\n",
        "\n",
        "print('R^2 score of Baysian Ridge Regression:' , r2_score(y_test , y_pred))\n",
        "print('mean squared error of Baysian Ridge Regression:' , mean_squared_error(y_test , y_pred))\n",
        "print()\n",
        "print('Coeffiecients of Baysian Ridge Regression:\\n' , bayse_ridge.coef_ , '\\n')\n",
        "print('Intercept of Baysian Ridge Regression:\\n' , bayse_ridge.intercept_)"
      ],
      "metadata": {
        "colab": {
          "base_uri": "https://localhost:8080/"
        },
        "id": "ItHW2yZhKBnN",
        "outputId": "9be98160-cec0-415e-e1cf-03929fc42da5"
      },
      "execution_count": 739,
      "outputs": [
        {
          "output_type": "stream",
          "name": "stdout",
          "text": [
            "R^2 score of Baysian Ridge Regression: 0.4579690718827283\n",
            "mean squared error of Baysian Ridge Regression: 2871.7621095545996\n",
            "\n",
            "Coeffiecients of Baysian Ridge Regression:\n",
            " [  41.89824771 -228.07959663  537.27812072  334.34292756 -217.65942458\n",
            "  -26.30404395 -152.64425546  171.3625696   452.87203184   63.68382197] \n",
            "\n",
            "Intercept of Baysian Ridge Regression:\n",
            " 151.36247316922808\n"
          ]
        }
      ]
    },
    {
      "cell_type": "code",
      "source": [
        "print('alpha (noise precision):' , bayse_ridge.alpha_)\n",
        "\n",
        "print('lambda (weight precision):', bayse_ridge.lambda_)"
      ],
      "metadata": {
        "colab": {
          "base_uri": "https://localhost:8080/"
        },
        "id": "KaqnMDYsc0jb",
        "outputId": "8893028a-569c-4dae-ca06-e570967cad2a"
      },
      "execution_count": 740,
      "outputs": [
        {
          "output_type": "stream",
          "name": "stdout",
          "text": [
            "alpha (noise precision): 0.0003375631812542365\n",
            "lambda (weight precision): 1.1048070657932027e-05\n"
          ]
        }
      ]
    }
  ]
}